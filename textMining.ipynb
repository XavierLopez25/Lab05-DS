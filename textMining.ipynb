{
 "cells": [
  {
   "cell_type": "markdown",
   "id": "4609a140",
   "metadata": {},
   "source": [
    "# Text Mining para detectar textos sobre desastres en Tweets"
   ]
  },
  {
   "cell_type": "markdown",
   "id": "099917a9",
   "metadata": {},
   "source": [
    "### Limpieza y preprocesamiento de texto"
   ]
  },
  {
   "cell_type": "code",
   "execution_count": 13,
   "id": "7bd98155",
   "metadata": {},
   "outputs": [],
   "source": [
    "import re\n",
    "import unicodedata\n",
    "from sklearn.feature_extraction.text import ENGLISH_STOP_WORDS, CountVectorizer\n",
    "from sklearn.feature_selection import chi2\n",
    "import matplotlib.pyplot as plt\n",
    "import pandas as pd\n",
    "import numpy as np"
   ]
  },
  {
   "cell_type": "markdown",
   "id": "a4a976ad",
   "metadata": {},
   "source": [
    "#### Patrones reutilizables"
   ]
  },
  {
   "cell_type": "code",
   "execution_count": 3,
   "id": "cdc87310",
   "metadata": {},
   "outputs": [
    {
     "name": "stderr",
     "output_type": "stream",
     "text": [
      "<>:8: SyntaxWarning: invalid escape sequence '\\['\n",
      "<>:8: SyntaxWarning: invalid escape sequence '\\['\n",
      "C:\\Users\\n8nug\\AppData\\Local\\Temp\\ipykernel_24168\\2624057981.py:8: SyntaxWarning: invalid escape sequence '\\['\n",
      "  EMOJI_RE = re.compile('\\[\\U00010000-\\U0010FFFF]', flags=re.UNICODE)\n"
     ]
    }
   ],
   "source": [
    "URL_RE = re.compile(r'https?://\\S+|[www.\\S+](http://www.\\S+)', flags=re.IGNORECASE)\n",
    "MENTION_RE = re.compile(r'@\\w+')\n",
    "HASHTAG_RE = re.compile(r'#(\\w+)')\n",
    "HTML_TAG_RE    = re.compile(r'<.*?>')\n",
    "EMOTICON_RE    = re.compile(\n",
    "\tr'(?:\\:\\)|:-\\)|:\\$|:-\\(|:D|;\\-\\)|;\\-\\(|:-/|:\\/|:\\'\\(|:P|:-P|;P|;-P|:o|:-o|:O|:-O)'\n",
    ")\n",
    "EMOJI_RE = re.compile('\\[\\U00010000-\\U0010FFFF]', flags=re.UNICODE)\n",
    "MULTISPACE_RE = re.compile(r'\\s+')\n"
   ]
  },
  {
   "cell_type": "markdown",
   "id": "9cf0e209",
   "metadata": {},
   "source": [
    "#### Stopwords de scikit-learn y preservación de negaciones"
   ]
  },
  {
   "cell_type": "code",
   "execution_count": null,
   "id": "b3255959",
   "metadata": {},
   "outputs": [],
   "source": [
    "_stopwords = set(ENGLISH_STOP_WORDS)\n",
    "_neg_keep = {\"not\", \"no\", \"nor\", \"never\"}\n",
    "_stopwords = _stopwords.difference(_neg_keep)\n",
    "\n",
    "def _normalize_unicode(text: str) -> str:\n",
    "    return unicodedata.normalize(\"NFKC\", text)\n",
    "\n",
    "def _expand_contractions(text: str) -> str:\n",
    "    text = re.sub(r\"\\bwon't\\b\", \"will not\", text, flags=re.IGNORECASE)\n",
    "    text = re.sub(r\"\\bcan't\\b\", \"can not\", text, flags=re.IGNORECASE)\n",
    "    text = re.sub(r\"n['’]t\\b\", \" not\", text, flags=re.IGNORECASE)\n",
    "    text = re.sub(r\"['’]re\\b\", \" are\", text, flags=re.IGNORECASE)\n",
    "    text = re.sub(r\"['’]s\\b\", \" is\", text, flags=re.IGNORECASE)\n",
    "    text = re.sub(r\"['’]d\\b\", \" would\", text, flags=re.IGNORECASE)\n",
    "    text = re.sub(r\"['’]ll\\b\", \" will\", text, flags=re.IGNORECASE)\n",
    "    text = re.sub(r\"['’]ve\\b\", \" have\", text, flags=re.IGNORECASE)\n",
    "    text = re.sub(r\"['’]m\\b\", \" am\", text, flags=re.IGNORECASE)\n",
    "    return text\n",
    "\n",
    "def _collapse_elongations(text: str) -> str:\n",
    "    return re.sub(r'(.)\\1{2,}', r'\\1\\1', text)"
   ]
  },
  {
   "cell_type": "code",
   "execution_count": null,
   "id": "5ab00032",
   "metadata": {},
   "outputs": [],
   "source": [
    "def clean_text(\n",
    "    text,\n",
    "    lowercase: bool = True,\n",
    "    remove_urls: bool = True,\n",
    "    remove_mentions: bool = True,\n",
    "    strip_hashtag_sign: bool = True,\n",
    "    remove_emoticons: bool = True,\n",
    "    remove_emojis: bool = True,\n",
    "    remove_punctuation: bool = True,\n",
    "    remove_numbers: bool = True,\n",
    "    keep_911: bool = True,\n",
    "    remove_stopwords: bool = True,\n",
    "    keep_negations: bool = True,\n",
    "    collapse_repeated_chars: bool = True,\n",
    "    ):\n",
    "    \n",
    "    \"\"\"\n",
    "    Retorna un string limpio listo para vectorizar.\n",
    "\n",
    "    Parámetros clave:\n",
    "    - remove_numbers: elimina números (útil para ruido)\n",
    "    - keep_911: si True, preserva el token '911' aunque remove_numbers=True\n",
    "    - remove_stopwords: quita artículos/preposiciones/conjunciones\n",
    "    - keep_negations: conserva 'no', 'not', 'never', 'nor'\n",
    "    \"\"\"\n",
    "\n",
    "    if text is None:\n",
    "        return \"\"\n",
    "    text = _normalize_unicode(str(text))\n",
    "    if lowercase:\n",
    "        text = text.lower()\n",
    "    text = _expand_contractions(text)\n",
    "\n",
    "    if remove_urls:\n",
    "        text = URL_RE.sub(\" \", text)\n",
    "    if remove_mentions:\n",
    "        text = MENTION_RE.sub(\" \", text)\n",
    "    if strip_hashtag_sign:\n",
    "        text = HASHTAG_RE.sub(r\"\\1\", text)\n",
    "\n",
    "    text = HTML_TAG_RE.sub(\" \", text)\n",
    "    if remove_emoticons:\n",
    "        text = EMOTICON_RE.sub(\" \", text)\n",
    "    if remove_emojis:\n",
    "        text = EMOJI_RE.sub(\" \", text)\n",
    "\n",
    "    if remove_numbers and keep_911:\n",
    "        text = re.sub(r\"\\b911\\b\", \"__PRESERVE_911__\", text)\n",
    "\n",
    "    if remove_punctuation:\n",
    "        text = re.sub(r\"[^a-zA-Z\\s]\", \" \", text)\n",
    "\n",
    "    if remove_numbers and keep_911:\n",
    "        text = text.replace(\"__PRESERVE_911__\", \"911\")\n",
    "\n",
    "    if collapse_repeated_chars:\n",
    "        text = _collapse_elongations(text)\n",
    "\n",
    "    tokens = text.split()\n",
    "    if remove_stopwords:\n",
    "        sw = set(_stopwords)\n",
    "        if keep_negations:\n",
    "            sw = sw.difference(_neg_keep)\n",
    "        tokens = [t for t in tokens if t not in sw]\n",
    "\n",
    "    text = \" \".join(tokens)\n",
    "    text = MULTISPACE_RE.sub(\" \", text).strip()\n",
    "    return text"
   ]
  },
  {
   "cell_type": "markdown",
   "id": "69bcee5a",
   "metadata": {},
   "source": [
    "#### Uso sobre el dataframe `df`"
   ]
  },
  {
   "cell_type": "code",
   "execution_count": 7,
   "id": "7fa5b039",
   "metadata": {},
   "outputs": [
    {
     "data": {
      "application/vnd.microsoft.datawrangler.viewer.v0+json": {
       "columns": [
        {
         "name": "index",
         "rawType": "int64",
         "type": "integer"
        },
        {
         "name": "id",
         "rawType": "int64",
         "type": "integer"
        },
        {
         "name": "text",
         "rawType": "object",
         "type": "string"
        },
        {
         "name": "clean_text",
         "rawType": "object",
         "type": "string"
        },
        {
         "name": "target",
         "rawType": "int64",
         "type": "integer"
        }
       ],
       "ref": "f75f7e4d-3bff-43b8-9bd3-616d9b05f9bd",
       "rows": [
        [
         "0",
         "1",
         "Our Deeds are the Reason of this #earthquake May ALLAH Forgive us all",
         "deeds reason earthquake allah forgive",
         "1"
        ],
        [
         "1",
         "4",
         "Forest fire near La Ronge Sask. Canada",
         "forest near la ronge sask canada",
         "1"
        ],
        [
         "2",
         "5",
         "All residents asked to 'shelter in place' are being notified by officers. No other evacuation or shelter in place orders are expected",
         "residents asked shelter place notified officers no evacuation shelter place orders expected",
         "1"
        ],
        [
         "3",
         "6",
         "13,000 people receive #wildfires evacuation orders in California ",
         "people receive wildfires evacuation orders california",
         "1"
        ],
        [
         "4",
         "7",
         "Just got sent this photo from Ruby #Alaska as smoke from #wildfires pours into a school ",
         "just got sent photo ruby alaska smoke wildfires pours school",
         "1"
        ]
       ],
       "shape": {
        "columns": 4,
        "rows": 5
       }
      },
      "text/html": [
       "<div>\n",
       "<style scoped>\n",
       "    .dataframe tbody tr th:only-of-type {\n",
       "        vertical-align: middle;\n",
       "    }\n",
       "\n",
       "    .dataframe tbody tr th {\n",
       "        vertical-align: top;\n",
       "    }\n",
       "\n",
       "    .dataframe thead th {\n",
       "        text-align: right;\n",
       "    }\n",
       "</style>\n",
       "<table border=\"1\" class=\"dataframe\">\n",
       "  <thead>\n",
       "    <tr style=\"text-align: right;\">\n",
       "      <th></th>\n",
       "      <th>id</th>\n",
       "      <th>text</th>\n",
       "      <th>clean_text</th>\n",
       "      <th>target</th>\n",
       "    </tr>\n",
       "  </thead>\n",
       "  <tbody>\n",
       "    <tr>\n",
       "      <th>0</th>\n",
       "      <td>1</td>\n",
       "      <td>Our Deeds are the Reason of this #earthquake M...</td>\n",
       "      <td>deeds reason earthquake allah forgive</td>\n",
       "      <td>1</td>\n",
       "    </tr>\n",
       "    <tr>\n",
       "      <th>1</th>\n",
       "      <td>4</td>\n",
       "      <td>Forest fire near La Ronge Sask. Canada</td>\n",
       "      <td>forest near la ronge sask canada</td>\n",
       "      <td>1</td>\n",
       "    </tr>\n",
       "    <tr>\n",
       "      <th>2</th>\n",
       "      <td>5</td>\n",
       "      <td>All residents asked to 'shelter in place' are ...</td>\n",
       "      <td>residents asked shelter place notified officer...</td>\n",
       "      <td>1</td>\n",
       "    </tr>\n",
       "    <tr>\n",
       "      <th>3</th>\n",
       "      <td>6</td>\n",
       "      <td>13,000 people receive #wildfires evacuation or...</td>\n",
       "      <td>people receive wildfires evacuation orders cal...</td>\n",
       "      <td>1</td>\n",
       "    </tr>\n",
       "    <tr>\n",
       "      <th>4</th>\n",
       "      <td>7</td>\n",
       "      <td>Just got sent this photo from Ruby #Alaska as ...</td>\n",
       "      <td>just got sent photo ruby alaska smoke wildfire...</td>\n",
       "      <td>1</td>\n",
       "    </tr>\n",
       "  </tbody>\n",
       "</table>\n",
       "</div>"
      ],
      "text/plain": [
       "   id                                               text  \\\n",
       "0   1  Our Deeds are the Reason of this #earthquake M...   \n",
       "1   4             Forest fire near La Ronge Sask. Canada   \n",
       "2   5  All residents asked to 'shelter in place' are ...   \n",
       "3   6  13,000 people receive #wildfires evacuation or...   \n",
       "4   7  Just got sent this photo from Ruby #Alaska as ...   \n",
       "\n",
       "                                          clean_text  target  \n",
       "0              deeds reason earthquake allah forgive       1  \n",
       "1                   forest near la ronge sask canada       1  \n",
       "2  residents asked shelter place notified officer...       1  \n",
       "3  people receive wildfires evacuation orders cal...       1  \n",
       "4  just got sent photo ruby alaska smoke wildfire...       1  "
      ]
     },
     "execution_count": 7,
     "metadata": {},
     "output_type": "execute_result"
    }
   ],
   "source": [
    "df = pd.read_csv(\"train.csv\")\n",
    "\n",
    "df[\"clean_text\"] = df[\"text\"].apply(\n",
    "    lambda t: clean_text(\n",
    "    t,\n",
    "    remove_numbers=True,\n",
    "    keep_911=True,\n",
    "    remove_stopwords=True,\n",
    "    keep_negations=True,\n",
    "    )\n",
    ")\n",
    "\n",
    "# (opcional) Tokens como lista:\n",
    "df[\"tokens\"] = df[\"clean_text\"].str.split()\n",
    "df[[\"id\", \"text\", \"clean_text\", \"target\"]].head()"
   ]
  },
  {
   "cell_type": "markdown",
   "id": "ffcd7b1d",
   "metadata": {},
   "source": [
    "#### Frecuencia de palabras (desastre vs. no) y n-gramas"
   ]
  },
  {
   "cell_type": "code",
   "execution_count": null,
   "id": "5f03d89a",
   "metadata": {},
   "outputs": [],
   "source": [
    "def get_top_ngrams(texts, ngram_range=(1,1), top_n=25, min_df=1):\n",
    "    \"\"\"\n",
    "    Retorna un DataFrame con las frecuencias de n-gramas más comunes en 'texts'.\n",
    "    \"\"\"\n",
    "    vectorizer = CountVectorizer(ngram_range=ngram_range, min_df=min_df)\n",
    "    X = vectorizer.fit_transform(texts)\n",
    "    vocab = np.array(vectorizer.get_feature_names_out())\n",
    "    freqs = np.asarray(X.sum(axis=0)).ravel()\n",
    "    order = np.argsort(freqs)[::-1]\n",
    "    top_idx = order[:top_n]\n",
    "    \n",
    "    return pd.DataFrame({\n",
    "        \"ngram\": vocab[top_idx],\n",
    "        \"freq\": freqs[top_idx]\n",
    "    })"
   ]
  },
  {
   "cell_type": "code",
   "execution_count": null,
   "id": "793cd1c4",
   "metadata": {},
   "outputs": [],
   "source": [
    "def plot_top_bars(df_freq, title, top_n=15):\n",
    "    \"\"\"\n",
    "    Grafica barras para los top_n n-gramas de un DataFrame con columnas ['ngram','freq'].\n",
    "    Reglas: matplotlib, una sola figura, sin estilo ni colores específicos.\n",
    "    \"\"\"\n",
    "    \n",
    "    top = df_freq.head(top_n).iloc[::-1]\n",
    "    plt.figure(figsize=(8, 5))\n",
    "    plt.barh(top['ngram'], top['freq'])\n",
    "    plt.title(title)\n",
    "    plt.xlabel('Frecuencia')\n",
    "    plt.ylabel('Término')\n",
    "    plt.tight_layout()\n",
    "    plt.show()"
   ]
  },
  {
   "cell_type": "code",
   "execution_count": null,
   "id": "7b6a4402",
   "metadata": {},
   "outputs": [],
   "source": [
    "def chi2_informative_terms(texts, y, ngram_range=(1,1), top_k=25, min_df=2):\n",
    "    \"\"\"\n",
    "    Devuelve dos DataFrames con los términos más asociados a cada clase según chi-cuadrado.\n",
    "    - top_disaster: términos fuertemente asociados a target=1\n",
    "    - top_nondisaster: términos fuertemente asociados a target=0\n",
    "    \"\"\"\n",
    "    vectorizer = CountVectorizer(ngram_range=ngram_range, min_df=min_df)\n",
    "    X = vectorizer.fit_transform(texts)\n",
    "    feature_names = np.array(vectorizer.get_feature_names_out())\n",
    "    chi2_vals, p = chi2(X, y)\n",
    "\n",
    "    # Orden global\n",
    "    order = np.argsort(chi2_vals)[::-1]\n",
    "\n",
    "    # Para separarlos por clase, calculamos la media de X en cada clase\n",
    "    X1_mean = X[y == 1].mean(axis=0).A1 + 1e-9\n",
    "    X0_mean = X[y == 0].mean(axis=0).A1 + 1e-9\n",
    "    log_ratio = np.log(X1_mean / X0_mean)\n",
    "\n",
    "    # Términos pro-clase 1: alto chi2 y log_ratio positivo\n",
    "    mask1 = log_ratio > 0\n",
    "    order1 = np.argsort(chi2_vals * mask1)[::-1]\n",
    "    top1 = [i for i in order1 if mask1[i]][:top_k]\n",
    "\n",
    "    # Términos pro-clase 0: alto chi2 y log_ratio negativo\n",
    "    mask0 = log_ratio < 0\n",
    "    order0 = np.argsort(chi2_vals * mask0)[::-1]\n",
    "    top0 = [i for i in order0 if mask0[i]][:top_k]\n",
    "    top_disaster = pd.DataFrame({\"term\": feature_names[top1], \"chi2\": chi2_vals[top1], \"log_ratio\": log_ratio[top1]})\n",
    "    top_nondisaster = pd.DataFrame({\"term\": feature_names[top0], \"chi2\": chi2_vals[top0], \"log_ratio\": log_ratio[top0]})\n",
    "    \n",
    "    return top_disaster, top_nondisaster"
   ]
  },
  {
   "cell_type": "markdown",
   "id": "93e054e6",
   "metadata": {},
   "source": [
    "#### Unigramas por clase (frecuencia)"
   ]
  },
  {
   "cell_type": "code",
   "execution_count": 11,
   "id": "a9275a38",
   "metadata": {},
   "outputs": [],
   "source": [
    "texts_1 = df.loc[df[\"target\"] == 1, \"clean_text\"].fillna(\"\")\n",
    "texts_0 = df.loc[df[\"target\"] == 0, \"clean_text\"].fillna(\"\")"
   ]
  },
  {
   "cell_type": "code",
   "execution_count": 14,
   "id": "09ac0a8e",
   "metadata": {},
   "outputs": [],
   "source": [
    "top_uni_1 = get_top_ngrams(texts_1, ngram_range=(1,1), top_n=25, min_df=1)\n",
    "top_uni_0 = get_top_ngrams(texts_0, ngram_range=(1,1), top_n=25, min_df=1)"
   ]
  },
  {
   "cell_type": "code",
   "execution_count": 15,
   "id": "a3aa9e3e",
   "metadata": {},
   "outputs": [
    {
     "data": {
      "text/plain": [
       "'Top unigramas - Desastres (target=1)'"
      ]
     },
     "metadata": {},
     "output_type": "display_data"
    },
    {
     "data": {
      "application/vnd.microsoft.datawrangler.viewer.v0+json": {
       "columns": [
        {
         "name": "index",
         "rawType": "int64",
         "type": "integer"
        },
        {
         "name": "ngram",
         "rawType": "object",
         "type": "string"
        },
        {
         "name": "freq",
         "rawType": "int64",
         "type": "integer"
        }
       ],
       "ref": "f9b64efd-07c2-4d48-b946-ef7187eb9c4b",
       "rows": [
        [
         "0",
         "not",
         "214"
        ],
        [
         "1",
         "news",
         "146"
        ],
        [
         "2",
         "amp",
         "135"
        ],
        [
         "3",
         "disaster",
         "121"
        ],
        [
         "4",
         "no",
         "115"
        ],
        [
         "5",
         "california",
         "115"
        ],
        [
         "6",
         "suicide",
         "112"
        ],
        [
         "7",
         "police",
         "109"
        ],
        [
         "8",
         "people",
         "105"
        ],
        [
         "9",
         "killed",
         "95"
        ],
        [
         "10",
         "hiroshima",
         "94"
        ],
        [
         "11",
         "like",
         "94"
        ],
        [
         "12",
         "storm",
         "89"
        ],
        [
         "13",
         "just",
         "89"
        ],
        [
         "14",
         "pm",
         "86"
        ],
        [
         "15",
         "crash",
         "85"
        ],
        [
         "16",
         "fires",
         "85"
        ],
        [
         "17",
         "families",
         "81"
        ],
        [
         "18",
         "train",
         "79"
        ],
        [
         "19",
         "emergency",
         "77"
        ],
        [
         "20",
         "bomb",
         "76"
        ],
        [
         "21",
         "buildings",
         "76"
        ],
        [
         "22",
         "nuclear",
         "73"
        ],
        [
         "23",
         "mh",
         "73"
        ],
        [
         "24",
         "attack",
         "71"
        ]
       ],
       "shape": {
        "columns": 2,
        "rows": 25
       }
      },
      "text/html": [
       "<div>\n",
       "<style scoped>\n",
       "    .dataframe tbody tr th:only-of-type {\n",
       "        vertical-align: middle;\n",
       "    }\n",
       "\n",
       "    .dataframe tbody tr th {\n",
       "        vertical-align: top;\n",
       "    }\n",
       "\n",
       "    .dataframe thead th {\n",
       "        text-align: right;\n",
       "    }\n",
       "</style>\n",
       "<table border=\"1\" class=\"dataframe\">\n",
       "  <thead>\n",
       "    <tr style=\"text-align: right;\">\n",
       "      <th></th>\n",
       "      <th>ngram</th>\n",
       "      <th>freq</th>\n",
       "    </tr>\n",
       "  </thead>\n",
       "  <tbody>\n",
       "    <tr>\n",
       "      <th>0</th>\n",
       "      <td>not</td>\n",
       "      <td>214</td>\n",
       "    </tr>\n",
       "    <tr>\n",
       "      <th>1</th>\n",
       "      <td>news</td>\n",
       "      <td>146</td>\n",
       "    </tr>\n",
       "    <tr>\n",
       "      <th>2</th>\n",
       "      <td>amp</td>\n",
       "      <td>135</td>\n",
       "    </tr>\n",
       "    <tr>\n",
       "      <th>3</th>\n",
       "      <td>disaster</td>\n",
       "      <td>121</td>\n",
       "    </tr>\n",
       "    <tr>\n",
       "      <th>4</th>\n",
       "      <td>no</td>\n",
       "      <td>115</td>\n",
       "    </tr>\n",
       "    <tr>\n",
       "      <th>5</th>\n",
       "      <td>california</td>\n",
       "      <td>115</td>\n",
       "    </tr>\n",
       "    <tr>\n",
       "      <th>6</th>\n",
       "      <td>suicide</td>\n",
       "      <td>112</td>\n",
       "    </tr>\n",
       "    <tr>\n",
       "      <th>7</th>\n",
       "      <td>police</td>\n",
       "      <td>109</td>\n",
       "    </tr>\n",
       "    <tr>\n",
       "      <th>8</th>\n",
       "      <td>people</td>\n",
       "      <td>105</td>\n",
       "    </tr>\n",
       "    <tr>\n",
       "      <th>9</th>\n",
       "      <td>killed</td>\n",
       "      <td>95</td>\n",
       "    </tr>\n",
       "    <tr>\n",
       "      <th>10</th>\n",
       "      <td>hiroshima</td>\n",
       "      <td>94</td>\n",
       "    </tr>\n",
       "    <tr>\n",
       "      <th>11</th>\n",
       "      <td>like</td>\n",
       "      <td>94</td>\n",
       "    </tr>\n",
       "    <tr>\n",
       "      <th>12</th>\n",
       "      <td>storm</td>\n",
       "      <td>89</td>\n",
       "    </tr>\n",
       "    <tr>\n",
       "      <th>13</th>\n",
       "      <td>just</td>\n",
       "      <td>89</td>\n",
       "    </tr>\n",
       "    <tr>\n",
       "      <th>14</th>\n",
       "      <td>pm</td>\n",
       "      <td>86</td>\n",
       "    </tr>\n",
       "    <tr>\n",
       "      <th>15</th>\n",
       "      <td>crash</td>\n",
       "      <td>85</td>\n",
       "    </tr>\n",
       "    <tr>\n",
       "      <th>16</th>\n",
       "      <td>fires</td>\n",
       "      <td>85</td>\n",
       "    </tr>\n",
       "    <tr>\n",
       "      <th>17</th>\n",
       "      <td>families</td>\n",
       "      <td>81</td>\n",
       "    </tr>\n",
       "    <tr>\n",
       "      <th>18</th>\n",
       "      <td>train</td>\n",
       "      <td>79</td>\n",
       "    </tr>\n",
       "    <tr>\n",
       "      <th>19</th>\n",
       "      <td>emergency</td>\n",
       "      <td>77</td>\n",
       "    </tr>\n",
       "    <tr>\n",
       "      <th>20</th>\n",
       "      <td>bomb</td>\n",
       "      <td>76</td>\n",
       "    </tr>\n",
       "    <tr>\n",
       "      <th>21</th>\n",
       "      <td>buildings</td>\n",
       "      <td>76</td>\n",
       "    </tr>\n",
       "    <tr>\n",
       "      <th>22</th>\n",
       "      <td>nuclear</td>\n",
       "      <td>73</td>\n",
       "    </tr>\n",
       "    <tr>\n",
       "      <th>23</th>\n",
       "      <td>mh</td>\n",
       "      <td>73</td>\n",
       "    </tr>\n",
       "    <tr>\n",
       "      <th>24</th>\n",
       "      <td>attack</td>\n",
       "      <td>71</td>\n",
       "    </tr>\n",
       "  </tbody>\n",
       "</table>\n",
       "</div>"
      ],
      "text/plain": [
       "         ngram  freq\n",
       "0          not   214\n",
       "1         news   146\n",
       "2          amp   135\n",
       "3     disaster   121\n",
       "4           no   115\n",
       "5   california   115\n",
       "6      suicide   112\n",
       "7       police   109\n",
       "8       people   105\n",
       "9       killed    95\n",
       "10   hiroshima    94\n",
       "11        like    94\n",
       "12       storm    89\n",
       "13        just    89\n",
       "14          pm    86\n",
       "15       crash    85\n",
       "16       fires    85\n",
       "17    families    81\n",
       "18       train    79\n",
       "19   emergency    77\n",
       "20        bomb    76\n",
       "21   buildings    76\n",
       "22     nuclear    73\n",
       "23          mh    73\n",
       "24      attack    71"
      ]
     },
     "metadata": {},
     "output_type": "display_data"
    }
   ],
   "source": [
    "display(\"Top unigramas - Desastres (target=1)\", top_uni_1)"
   ]
  },
  {
   "cell_type": "code",
   "execution_count": 16,
   "id": "179b7b9a",
   "metadata": {},
   "outputs": [
    {
     "data": {
      "text/plain": [
       "'Top unigramas - No desastres (target=0)'"
      ]
     },
     "metadata": {},
     "output_type": "display_data"
    },
    {
     "data": {
      "application/vnd.microsoft.datawrangler.viewer.v0+json": {
       "columns": [
        {
         "name": "index",
         "rawType": "int64",
         "type": "integer"
        },
        {
         "name": "ngram",
         "rawType": "object",
         "type": "string"
        },
        {
         "name": "freq",
         "rawType": "int64",
         "type": "integer"
        }
       ],
       "ref": "5b08a49e-3432-402b-9451-853ff8208a58",
       "rows": [
        [
         "0",
         "not",
         "531"
        ],
        [
         "1",
         "like",
         "254"
        ],
        [
         "2",
         "just",
         "234"
        ],
        [
         "3",
         "amp",
         "209"
        ],
        [
         "4",
         "new",
         "171"
        ],
        [
         "5",
         "no",
         "151"
        ],
        [
         "6",
         "body",
         "116"
        ],
        [
         "7",
         "video",
         "96"
        ],
        [
         "8",
         "people",
         "94"
        ],
        [
         "9",
         "love",
         "91"
        ],
        [
         "10",
         "time",
         "86"
        ],
        [
         "11",
         "know",
         "86"
        ],
        [
         "12",
         "day",
         "86"
        ],
        [
         "13",
         "got",
         "85"
        ],
        [
         "14",
         "emergency",
         "81"
        ],
        [
         "15",
         "let",
         "76"
        ],
        [
         "16",
         "going",
         "76"
        ],
        [
         "17",
         "did",
         "75"
        ],
        [
         "18",
         "gt",
         "72"
        ],
        [
         "19",
         "want",
         "67"
        ],
        [
         "20",
         "good",
         "67"
        ],
        [
         "21",
         "think",
         "66"
        ],
        [
         "22",
         "man",
         "66"
        ],
        [
         "23",
         "world",
         "63"
        ],
        [
         "24",
         "rt",
         "62"
        ]
       ],
       "shape": {
        "columns": 2,
        "rows": 25
       }
      },
      "text/html": [
       "<div>\n",
       "<style scoped>\n",
       "    .dataframe tbody tr th:only-of-type {\n",
       "        vertical-align: middle;\n",
       "    }\n",
       "\n",
       "    .dataframe tbody tr th {\n",
       "        vertical-align: top;\n",
       "    }\n",
       "\n",
       "    .dataframe thead th {\n",
       "        text-align: right;\n",
       "    }\n",
       "</style>\n",
       "<table border=\"1\" class=\"dataframe\">\n",
       "  <thead>\n",
       "    <tr style=\"text-align: right;\">\n",
       "      <th></th>\n",
       "      <th>ngram</th>\n",
       "      <th>freq</th>\n",
       "    </tr>\n",
       "  </thead>\n",
       "  <tbody>\n",
       "    <tr>\n",
       "      <th>0</th>\n",
       "      <td>not</td>\n",
       "      <td>531</td>\n",
       "    </tr>\n",
       "    <tr>\n",
       "      <th>1</th>\n",
       "      <td>like</td>\n",
       "      <td>254</td>\n",
       "    </tr>\n",
       "    <tr>\n",
       "      <th>2</th>\n",
       "      <td>just</td>\n",
       "      <td>234</td>\n",
       "    </tr>\n",
       "    <tr>\n",
       "      <th>3</th>\n",
       "      <td>amp</td>\n",
       "      <td>209</td>\n",
       "    </tr>\n",
       "    <tr>\n",
       "      <th>4</th>\n",
       "      <td>new</td>\n",
       "      <td>171</td>\n",
       "    </tr>\n",
       "    <tr>\n",
       "      <th>5</th>\n",
       "      <td>no</td>\n",
       "      <td>151</td>\n",
       "    </tr>\n",
       "    <tr>\n",
       "      <th>6</th>\n",
       "      <td>body</td>\n",
       "      <td>116</td>\n",
       "    </tr>\n",
       "    <tr>\n",
       "      <th>7</th>\n",
       "      <td>video</td>\n",
       "      <td>96</td>\n",
       "    </tr>\n",
       "    <tr>\n",
       "      <th>8</th>\n",
       "      <td>people</td>\n",
       "      <td>94</td>\n",
       "    </tr>\n",
       "    <tr>\n",
       "      <th>9</th>\n",
       "      <td>love</td>\n",
       "      <td>91</td>\n",
       "    </tr>\n",
       "    <tr>\n",
       "      <th>10</th>\n",
       "      <td>time</td>\n",
       "      <td>86</td>\n",
       "    </tr>\n",
       "    <tr>\n",
       "      <th>11</th>\n",
       "      <td>know</td>\n",
       "      <td>86</td>\n",
       "    </tr>\n",
       "    <tr>\n",
       "      <th>12</th>\n",
       "      <td>day</td>\n",
       "      <td>86</td>\n",
       "    </tr>\n",
       "    <tr>\n",
       "      <th>13</th>\n",
       "      <td>got</td>\n",
       "      <td>85</td>\n",
       "    </tr>\n",
       "    <tr>\n",
       "      <th>14</th>\n",
       "      <td>emergency</td>\n",
       "      <td>81</td>\n",
       "    </tr>\n",
       "    <tr>\n",
       "      <th>15</th>\n",
       "      <td>let</td>\n",
       "      <td>76</td>\n",
       "    </tr>\n",
       "    <tr>\n",
       "      <th>16</th>\n",
       "      <td>going</td>\n",
       "      <td>76</td>\n",
       "    </tr>\n",
       "    <tr>\n",
       "      <th>17</th>\n",
       "      <td>did</td>\n",
       "      <td>75</td>\n",
       "    </tr>\n",
       "    <tr>\n",
       "      <th>18</th>\n",
       "      <td>gt</td>\n",
       "      <td>72</td>\n",
       "    </tr>\n",
       "    <tr>\n",
       "      <th>19</th>\n",
       "      <td>want</td>\n",
       "      <td>67</td>\n",
       "    </tr>\n",
       "    <tr>\n",
       "      <th>20</th>\n",
       "      <td>good</td>\n",
       "      <td>67</td>\n",
       "    </tr>\n",
       "    <tr>\n",
       "      <th>21</th>\n",
       "      <td>think</td>\n",
       "      <td>66</td>\n",
       "    </tr>\n",
       "    <tr>\n",
       "      <th>22</th>\n",
       "      <td>man</td>\n",
       "      <td>66</td>\n",
       "    </tr>\n",
       "    <tr>\n",
       "      <th>23</th>\n",
       "      <td>world</td>\n",
       "      <td>63</td>\n",
       "    </tr>\n",
       "    <tr>\n",
       "      <th>24</th>\n",
       "      <td>rt</td>\n",
       "      <td>62</td>\n",
       "    </tr>\n",
       "  </tbody>\n",
       "</table>\n",
       "</div>"
      ],
      "text/plain": [
       "        ngram  freq\n",
       "0         not   531\n",
       "1        like   254\n",
       "2        just   234\n",
       "3         amp   209\n",
       "4         new   171\n",
       "5          no   151\n",
       "6        body   116\n",
       "7       video    96\n",
       "8      people    94\n",
       "9        love    91\n",
       "10       time    86\n",
       "11       know    86\n",
       "12        day    86\n",
       "13        got    85\n",
       "14  emergency    81\n",
       "15        let    76\n",
       "16      going    76\n",
       "17        did    75\n",
       "18         gt    72\n",
       "19       want    67\n",
       "20       good    67\n",
       "21      think    66\n",
       "22        man    66\n",
       "23      world    63\n",
       "24         rt    62"
      ]
     },
     "metadata": {},
     "output_type": "display_data"
    }
   ],
   "source": [
    "display(\"Top unigramas - No desastres (target=0)\", top_uni_0)"
   ]
  },
  {
   "cell_type": "markdown",
   "id": "29651d86",
   "metadata": {},
   "source": [
    "#### Gráficas"
   ]
  },
  {
   "cell_type": "code",
   "execution_count": 17,
   "id": "19e82101",
   "metadata": {},
   "outputs": [
    {
     "data": {
      "image/png": "[encoded data removed]",
      "text/plain": [
       "<Figure size 800x500 with 1 Axes>"
      ]
     },
     "metadata": {},
     "output_type": "display_data"
    },
    {
     "data": {
      "image/png": "[encoded data removed]",
      "text/plain": [
       "<Figure size 800x500 with 1 Axes>"
      ]
     },
     "metadata": {},
     "output_type": "display_data"
    }
   ],
   "source": [
    "plot_top_bars(top_uni_1, \"Top 15 unigramas - Desastres (target=1)\", top_n=15)\n",
    "plot_top_bars(top_uni_0, \"Top 15 unigramas - No desastres (target=0)\", top_n=15)"
   ]
  },
  {
   "cell_type": "markdown",
   "id": "5ac0724c",
   "metadata": {},
   "source": [
    "#### Bigramas y trigramas por clase (frecuencia)"
   ]
  },
  {
   "cell_type": "code",
   "execution_count": 18,
   "id": "297ef9ff",
   "metadata": {},
   "outputs": [],
   "source": [
    "top_bi_1 = get_top_ngrams(texts_1, ngram_range=(2,2), top_n=25, min_df=1)\n",
    "top_bi_0 = get_top_ngrams(texts_0, ngram_range=(2,2), top_n=25, min_df=1)\n",
    "top_tri_1 = get_top_ngrams(texts_1, ngram_range=(3,3), top_n=25, min_df=1)\n",
    "top_tri_0 = get_top_ngrams(texts_0, ngram_range=(3,3), top_n=25, min_df=1)"
   ]
  },
  {
   "cell_type": "code",
   "execution_count": 19,
   "id": "959c2a17",
   "metadata": {},
   "outputs": [
    {
     "data": {
      "text/plain": [
       "'Top bigramas - Desastres (target=1)'"
      ]
     },
     "metadata": {},
     "output_type": "display_data"
    },
    {
     "data": {
      "application/vnd.microsoft.datawrangler.viewer.v0+json": {
       "columns": [
        {
         "name": "index",
         "rawType": "int64",
         "type": "integer"
        },
        {
         "name": "ngram",
         "rawType": "object",
         "type": "string"
        },
        {
         "name": "freq",
         "rawType": "int64",
         "type": "integer"
        }
       ],
       "ref": "a18cb7ab-ce67-46d5-a972-ac56f154b26e",
       "rows": [
        [
         "0",
         "suicide bomber",
         "59"
        ],
        [
         "1",
         "northern california",
         "41"
        ],
        [
         "2",
         "oil spill",
         "38"
        ],
        [
         "3",
         "burning buildings",
         "37"
        ],
        [
         "4",
         "suicide bombing",
         "35"
        ],
        [
         "5",
         "california wildfire",
         "34"
        ],
        [
         "6",
         "bomber detonated",
         "30"
        ],
        [
         "7",
         "confirmed mh",
         "29"
        ],
        [
         "8",
         "homes razed",
         "29"
        ],
        [
         "9",
         "yr old",
         "29"
        ],
        [
         "10",
         "year old",
         "28"
        ],
        [
         "11",
         "detonated bomb",
         "28"
        ],
        [
         "12",
         "pkk suicide",
         "28"
        ],
        [
         "13",
         "razed northern",
         "28"
        ],
        [
         "14",
         "latest homes",
         "28"
        ],
        [
         "15",
         "old pkk",
         "27"
        ],
        [
         "16",
         "severe thunderstorm",
         "27"
        ],
        [
         "17",
         "mass murder",
         "27"
        ],
        [
         "18",
         "affected fatal",
         "26"
        ],
        [
         "19",
         "fatal outbreak",
         "26"
        ],
        [
         "20",
         "families sue",
         "26"
        ],
        [
         "21",
         "families affected",
         "26"
        ],
        [
         "22",
         "mh malaysia",
         "26"
        ],
        [
         "23",
         "sue legionnaires",
         "26"
        ],
        [
         "24",
         "conclusively confirmed",
         "25"
        ]
       ],
       "shape": {
        "columns": 2,
        "rows": 25
       }
      },
      "text/html": [
       "<div>\n",
       "<style scoped>\n",
       "    .dataframe tbody tr th:only-of-type {\n",
       "        vertical-align: middle;\n",
       "    }\n",
       "\n",
       "    .dataframe tbody tr th {\n",
       "        vertical-align: top;\n",
       "    }\n",
       "\n",
       "    .dataframe thead th {\n",
       "        text-align: right;\n",
       "    }\n",
       "</style>\n",
       "<table border=\"1\" class=\"dataframe\">\n",
       "  <thead>\n",
       "    <tr style=\"text-align: right;\">\n",
       "      <th></th>\n",
       "      <th>ngram</th>\n",
       "      <th>freq</th>\n",
       "    </tr>\n",
       "  </thead>\n",
       "  <tbody>\n",
       "    <tr>\n",
       "      <th>0</th>\n",
       "      <td>suicide bomber</td>\n",
       "      <td>59</td>\n",
       "    </tr>\n",
       "    <tr>\n",
       "      <th>1</th>\n",
       "      <td>northern california</td>\n",
       "      <td>41</td>\n",
       "    </tr>\n",
       "    <tr>\n",
       "      <th>2</th>\n",
       "      <td>oil spill</td>\n",
       "      <td>38</td>\n",
       "    </tr>\n",
       "    <tr>\n",
       "      <th>3</th>\n",
       "      <td>burning buildings</td>\n",
       "      <td>37</td>\n",
       "    </tr>\n",
       "    <tr>\n",
       "      <th>4</th>\n",
       "      <td>suicide bombing</td>\n",
       "      <td>35</td>\n",
       "    </tr>\n",
       "    <tr>\n",
       "      <th>5</th>\n",
       "      <td>california wildfire</td>\n",
       "      <td>34</td>\n",
       "    </tr>\n",
       "    <tr>\n",
       "      <th>6</th>\n",
       "      <td>bomber detonated</td>\n",
       "      <td>30</td>\n",
       "    </tr>\n",
       "    <tr>\n",
       "      <th>7</th>\n",
       "      <td>confirmed mh</td>\n",
       "      <td>29</td>\n",
       "    </tr>\n",
       "    <tr>\n",
       "      <th>8</th>\n",
       "      <td>homes razed</td>\n",
       "      <td>29</td>\n",
       "    </tr>\n",
       "    <tr>\n",
       "      <th>9</th>\n",
       "      <td>yr old</td>\n",
       "      <td>29</td>\n",
       "    </tr>\n",
       "    <tr>\n",
       "      <th>10</th>\n",
       "      <td>year old</td>\n",
       "      <td>28</td>\n",
       "    </tr>\n",
       "    <tr>\n",
       "      <th>11</th>\n",
       "      <td>detonated bomb</td>\n",
       "      <td>28</td>\n",
       "    </tr>\n",
       "    <tr>\n",
       "      <th>12</th>\n",
       "      <td>pkk suicide</td>\n",
       "      <td>28</td>\n",
       "    </tr>\n",
       "    <tr>\n",
       "      <th>13</th>\n",
       "      <td>razed northern</td>\n",
       "      <td>28</td>\n",
       "    </tr>\n",
       "    <tr>\n",
       "      <th>14</th>\n",
       "      <td>latest homes</td>\n",
       "      <td>28</td>\n",
       "    </tr>\n",
       "    <tr>\n",
       "      <th>15</th>\n",
       "      <td>old pkk</td>\n",
       "      <td>27</td>\n",
       "    </tr>\n",
       "    <tr>\n",
       "      <th>16</th>\n",
       "      <td>severe thunderstorm</td>\n",
       "      <td>27</td>\n",
       "    </tr>\n",
       "    <tr>\n",
       "      <th>17</th>\n",
       "      <td>mass murder</td>\n",
       "      <td>27</td>\n",
       "    </tr>\n",
       "    <tr>\n",
       "      <th>18</th>\n",
       "      <td>affected fatal</td>\n",
       "      <td>26</td>\n",
       "    </tr>\n",
       "    <tr>\n",
       "      <th>19</th>\n",
       "      <td>fatal outbreak</td>\n",
       "      <td>26</td>\n",
       "    </tr>\n",
       "    <tr>\n",
       "      <th>20</th>\n",
       "      <td>families sue</td>\n",
       "      <td>26</td>\n",
       "    </tr>\n",
       "    <tr>\n",
       "      <th>21</th>\n",
       "      <td>families affected</td>\n",
       "      <td>26</td>\n",
       "    </tr>\n",
       "    <tr>\n",
       "      <th>22</th>\n",
       "      <td>mh malaysia</td>\n",
       "      <td>26</td>\n",
       "    </tr>\n",
       "    <tr>\n",
       "      <th>23</th>\n",
       "      <td>sue legionnaires</td>\n",
       "      <td>26</td>\n",
       "    </tr>\n",
       "    <tr>\n",
       "      <th>24</th>\n",
       "      <td>conclusively confirmed</td>\n",
       "      <td>25</td>\n",
       "    </tr>\n",
       "  </tbody>\n",
       "</table>\n",
       "</div>"
      ],
      "text/plain": [
       "                     ngram  freq\n",
       "0           suicide bomber    59\n",
       "1      northern california    41\n",
       "2                oil spill    38\n",
       "3        burning buildings    37\n",
       "4          suicide bombing    35\n",
       "5      california wildfire    34\n",
       "6         bomber detonated    30\n",
       "7             confirmed mh    29\n",
       "8              homes razed    29\n",
       "9                   yr old    29\n",
       "10                year old    28\n",
       "11          detonated bomb    28\n",
       "12             pkk suicide    28\n",
       "13          razed northern    28\n",
       "14            latest homes    28\n",
       "15                 old pkk    27\n",
       "16     severe thunderstorm    27\n",
       "17             mass murder    27\n",
       "18          affected fatal    26\n",
       "19          fatal outbreak    26\n",
       "20            families sue    26\n",
       "21       families affected    26\n",
       "22             mh malaysia    26\n",
       "23        sue legionnaires    26\n",
       "24  conclusively confirmed    25"
      ]
     },
     "metadata": {},
     "output_type": "display_data"
    }
   ],
   "source": [
    "display(\"Top bigramas - Desastres (target=1)\", top_bi_1)"
   ]
  },
  {
   "cell_type": "code",
   "execution_count": 20,
   "id": "55a4c244",
   "metadata": {},
   "outputs": [
    {
     "data": {
      "text/plain": [
       "'Top bigramas - No desastres (target=0)'"
      ]
     },
     "metadata": {},
     "output_type": "display_data"
    },
    {
     "data": {
      "application/vnd.microsoft.datawrangler.viewer.v0+json": {
       "columns": [
        {
         "name": "index",
         "rawType": "int64",
         "type": "integer"
        },
        {
         "name": "ngram",
         "rawType": "object",
         "type": "string"
        },
        {
         "name": "freq",
         "rawType": "int64",
         "type": "integer"
        }
       ],
       "ref": "2795c9b5-67b4-446f-b797-2215babc7f03",
       "rows": [
        [
         "0",
         "cross body",
         "39"
        ],
        [
         "1",
         "liked video",
         "34"
        ],
        [
         "2",
         "gt gt",
         "30"
        ],
        [
         "3",
         "body bag",
         "27"
        ],
        [
         "4",
         "body bagging",
         "24"
        ],
        [
         "5",
         "burning buildings",
         "23"
        ],
        [
         "6",
         "body bags",
         "22"
        ],
        [
         "7",
         "reddit quarantine",
         "21"
        ],
        [
         "8",
         "did not",
         "21"
        ],
        [
         "9",
         "quarantine offensive",
         "21"
        ],
        [
         "10",
         "looks like",
         "21"
        ],
        [
         "11",
         "feel like",
         "20"
        ],
        [
         "12",
         "offensive content",
         "20"
        ],
        [
         "13",
         "content policy",
         "20"
        ],
        [
         "14",
         "loud bang",
         "19"
        ],
        [
         "15",
         "not know",
         "17"
        ],
        [
         "16",
         "does not",
         "17"
        ],
        [
         "17",
         "pick fan",
         "17"
        ],
        [
         "18",
         "fan army",
         "17"
        ],
        [
         "19",
         "prebreak best",
         "17"
        ],
        [
         "20",
         "new content",
         "16"
        ],
        [
         "21",
         "banned quarantined",
         "16"
        ],
        [
         "22",
         "china stock",
         "16"
        ],
        [
         "23",
         "stock market",
         "16"
        ],
        [
         "24",
         "market crash",
         "16"
        ]
       ],
       "shape": {
        "columns": 2,
        "rows": 25
       }
      },
      "text/html": [
       "<div>\n",
       "<style scoped>\n",
       "    .dataframe tbody tr th:only-of-type {\n",
       "        vertical-align: middle;\n",
       "    }\n",
       "\n",
       "    .dataframe tbody tr th {\n",
       "        vertical-align: top;\n",
       "    }\n",
       "\n",
       "    .dataframe thead th {\n",
       "        text-align: right;\n",
       "    }\n",
       "</style>\n",
       "<table border=\"1\" class=\"dataframe\">\n",
       "  <thead>\n",
       "    <tr style=\"text-align: right;\">\n",
       "      <th></th>\n",
       "      <th>ngram</th>\n",
       "      <th>freq</th>\n",
       "    </tr>\n",
       "  </thead>\n",
       "  <tbody>\n",
       "    <tr>\n",
       "      <th>0</th>\n",
       "      <td>cross body</td>\n",
       "      <td>39</td>\n",
       "    </tr>\n",
       "    <tr>\n",
       "      <th>1</th>\n",
       "      <td>liked video</td>\n",
       "      <td>34</td>\n",
       "    </tr>\n",
       "    <tr>\n",
       "      <th>2</th>\n",
       "      <td>gt gt</td>\n",
       "      <td>30</td>\n",
       "    </tr>\n",
       "    <tr>\n",
       "      <th>3</th>\n",
       "      <td>body bag</td>\n",
       "      <td>27</td>\n",
       "    </tr>\n",
       "    <tr>\n",
       "      <th>4</th>\n",
       "      <td>body bagging</td>\n",
       "      <td>24</td>\n",
       "    </tr>\n",
       "    <tr>\n",
       "      <th>5</th>\n",
       "      <td>burning buildings</td>\n",
       "      <td>23</td>\n",
       "    </tr>\n",
       "    <tr>\n",
       "      <th>6</th>\n",
       "      <td>body bags</td>\n",
       "      <td>22</td>\n",
       "    </tr>\n",
       "    <tr>\n",
       "      <th>7</th>\n",
       "      <td>reddit quarantine</td>\n",
       "      <td>21</td>\n",
       "    </tr>\n",
       "    <tr>\n",
       "      <th>8</th>\n",
       "      <td>did not</td>\n",
       "      <td>21</td>\n",
       "    </tr>\n",
       "    <tr>\n",
       "      <th>9</th>\n",
       "      <td>quarantine offensive</td>\n",
       "      <td>21</td>\n",
       "    </tr>\n",
       "    <tr>\n",
       "      <th>10</th>\n",
       "      <td>looks like</td>\n",
       "      <td>21</td>\n",
       "    </tr>\n",
       "    <tr>\n",
       "      <th>11</th>\n",
       "      <td>feel like</td>\n",
       "      <td>20</td>\n",
       "    </tr>\n",
       "    <tr>\n",
       "      <th>12</th>\n",
       "      <td>offensive content</td>\n",
       "      <td>20</td>\n",
       "    </tr>\n",
       "    <tr>\n",
       "      <th>13</th>\n",
       "      <td>content policy</td>\n",
       "      <td>20</td>\n",
       "    </tr>\n",
       "    <tr>\n",
       "      <th>14</th>\n",
       "      <td>loud bang</td>\n",
       "      <td>19</td>\n",
       "    </tr>\n",
       "    <tr>\n",
       "      <th>15</th>\n",
       "      <td>not know</td>\n",
       "      <td>17</td>\n",
       "    </tr>\n",
       "    <tr>\n",
       "      <th>16</th>\n",
       "      <td>does not</td>\n",
       "      <td>17</td>\n",
       "    </tr>\n",
       "    <tr>\n",
       "      <th>17</th>\n",
       "      <td>pick fan</td>\n",
       "      <td>17</td>\n",
       "    </tr>\n",
       "    <tr>\n",
       "      <th>18</th>\n",
       "      <td>fan army</td>\n",
       "      <td>17</td>\n",
       "    </tr>\n",
       "    <tr>\n",
       "      <th>19</th>\n",
       "      <td>prebreak best</td>\n",
       "      <td>17</td>\n",
       "    </tr>\n",
       "    <tr>\n",
       "      <th>20</th>\n",
       "      <td>new content</td>\n",
       "      <td>16</td>\n",
       "    </tr>\n",
       "    <tr>\n",
       "      <th>21</th>\n",
       "      <td>banned quarantined</td>\n",
       "      <td>16</td>\n",
       "    </tr>\n",
       "    <tr>\n",
       "      <th>22</th>\n",
       "      <td>china stock</td>\n",
       "      <td>16</td>\n",
       "    </tr>\n",
       "    <tr>\n",
       "      <th>23</th>\n",
       "      <td>stock market</td>\n",
       "      <td>16</td>\n",
       "    </tr>\n",
       "    <tr>\n",
       "      <th>24</th>\n",
       "      <td>market crash</td>\n",
       "      <td>16</td>\n",
       "    </tr>\n",
       "  </tbody>\n",
       "</table>\n",
       "</div>"
      ],
      "text/plain": [
       "                   ngram  freq\n",
       "0             cross body    39\n",
       "1            liked video    34\n",
       "2                  gt gt    30\n",
       "3               body bag    27\n",
       "4           body bagging    24\n",
       "5      burning buildings    23\n",
       "6              body bags    22\n",
       "7      reddit quarantine    21\n",
       "8                did not    21\n",
       "9   quarantine offensive    21\n",
       "10            looks like    21\n",
       "11             feel like    20\n",
       "12     offensive content    20\n",
       "13        content policy    20\n",
       "14             loud bang    19\n",
       "15              not know    17\n",
       "16              does not    17\n",
       "17              pick fan    17\n",
       "18              fan army    17\n",
       "19         prebreak best    17\n",
       "20           new content    16\n",
       "21    banned quarantined    16\n",
       "22           china stock    16\n",
       "23          stock market    16\n",
       "24          market crash    16"
      ]
     },
     "metadata": {},
     "output_type": "display_data"
    }
   ],
   "source": [
    "display(\"Top bigramas - No desastres (target=0)\", top_bi_0)"
   ]
  },
  {
   "cell_type": "code",
   "execution_count": 21,
   "id": "4f961634",
   "metadata": {},
   "outputs": [
    {
     "data": {
      "text/plain": [
       "'Top trigramas - Desastres (target=1)'"
      ]
     },
     "metadata": {},
     "output_type": "display_data"
    },
    {
     "data": {
      "application/vnd.microsoft.datawrangler.viewer.v0+json": {
       "columns": [
        {
         "name": "index",
         "rawType": "int64",
         "type": "integer"
        },
        {
         "name": "ngram",
         "rawType": "object",
         "type": "string"
        },
        {
         "name": "freq",
         "rawType": "int64",
         "type": "integer"
        }
       ],
       "ref": "68ffc087-a592-49c6-a25b-62a00e9993b7",
       "rows": [
        [
         "0",
         "suicide bomber detonated",
         "30"
        ],
        [
         "1",
         "northern california wildfire",
         "29"
        ],
        [
         "2",
         "homes razed northern",
         "28"
        ],
        [
         "3",
         "latest homes razed",
         "28"
        ],
        [
         "4",
         "pkk suicide bomber",
         "28"
        ],
        [
         "5",
         "bomber detonated bomb",
         "28"
        ],
        [
         "6",
         "yr old pkk",
         "27"
        ],
        [
         "7",
         "old pkk suicide",
         "27"
        ],
        [
         "8",
         "razed northern california",
         "27"
        ],
        [
         "9",
         "affected fatal outbreak",
         "26"
        ],
        [
         "10",
         "families sue legionnaires",
         "26"
        ],
        [
         "11",
         "families affected fatal",
         "26"
        ],
        [
         "12",
         "sue legionnaires families",
         "25"
        ],
        [
         "13",
         "declares disaster typhoon",
         "25"
        ],
        [
         "14",
         "disaster typhoon devastated",
         "25"
        ],
        [
         "15",
         "legionnaires families affected",
         "25"
        ],
        [
         "16",
         "typhoon devastated saipan",
         "25"
        ],
        [
         "17",
         "obama declares disaster",
         "25"
        ],
        [
         "18",
         "wreckage conclusively confirmed",
         "25"
        ],
        [
         "19",
         "swallowed sandstorm minute",
         "24"
        ],
        [
         "20",
         "conclusively confirmed mh",
         "24"
        ],
        [
         "21",
         "confirmed mh malaysia",
         "24"
        ],
        [
         "22",
         "mh malaysia pm",
         "24"
        ],
        [
         "23",
         "airport swallowed sandstorm",
         "24"
        ],
        [
         "24",
         "watch airport swallowed",
         "24"
        ]
       ],
       "shape": {
        "columns": 2,
        "rows": 25
       }
      },
      "text/html": [
       "<div>\n",
       "<style scoped>\n",
       "    .dataframe tbody tr th:only-of-type {\n",
       "        vertical-align: middle;\n",
       "    }\n",
       "\n",
       "    .dataframe tbody tr th {\n",
       "        vertical-align: top;\n",
       "    }\n",
       "\n",
       "    .dataframe thead th {\n",
       "        text-align: right;\n",
       "    }\n",
       "</style>\n",
       "<table border=\"1\" class=\"dataframe\">\n",
       "  <thead>\n",
       "    <tr style=\"text-align: right;\">\n",
       "      <th></th>\n",
       "      <th>ngram</th>\n",
       "      <th>freq</th>\n",
       "    </tr>\n",
       "  </thead>\n",
       "  <tbody>\n",
       "    <tr>\n",
       "      <th>0</th>\n",
       "      <td>suicide bomber detonated</td>\n",
       "      <td>30</td>\n",
       "    </tr>\n",
       "    <tr>\n",
       "      <th>1</th>\n",
       "      <td>northern california wildfire</td>\n",
       "      <td>29</td>\n",
       "    </tr>\n",
       "    <tr>\n",
       "      <th>2</th>\n",
       "      <td>homes razed northern</td>\n",
       "      <td>28</td>\n",
       "    </tr>\n",
       "    <tr>\n",
       "      <th>3</th>\n",
       "      <td>latest homes razed</td>\n",
       "      <td>28</td>\n",
       "    </tr>\n",
       "    <tr>\n",
       "      <th>4</th>\n",
       "      <td>pkk suicide bomber</td>\n",
       "      <td>28</td>\n",
       "    </tr>\n",
       "    <tr>\n",
       "      <th>5</th>\n",
       "      <td>bomber detonated bomb</td>\n",
       "      <td>28</td>\n",
       "    </tr>\n",
       "    <tr>\n",
       "      <th>6</th>\n",
       "      <td>yr old pkk</td>\n",
       "      <td>27</td>\n",
       "    </tr>\n",
       "    <tr>\n",
       "      <th>7</th>\n",
       "      <td>old pkk suicide</td>\n",
       "      <td>27</td>\n",
       "    </tr>\n",
       "    <tr>\n",
       "      <th>8</th>\n",
       "      <td>razed northern california</td>\n",
       "      <td>27</td>\n",
       "    </tr>\n",
       "    <tr>\n",
       "      <th>9</th>\n",
       "      <td>affected fatal outbreak</td>\n",
       "      <td>26</td>\n",
       "    </tr>\n",
       "    <tr>\n",
       "      <th>10</th>\n",
       "      <td>families sue legionnaires</td>\n",
       "      <td>26</td>\n",
       "    </tr>\n",
       "    <tr>\n",
       "      <th>11</th>\n",
       "      <td>families affected fatal</td>\n",
       "      <td>26</td>\n",
       "    </tr>\n",
       "    <tr>\n",
       "      <th>12</th>\n",
       "      <td>sue legionnaires families</td>\n",
       "      <td>25</td>\n",
       "    </tr>\n",
       "    <tr>\n",
       "      <th>13</th>\n",
       "      <td>declares disaster typhoon</td>\n",
       "      <td>25</td>\n",
       "    </tr>\n",
       "    <tr>\n",
       "      <th>14</th>\n",
       "      <td>disaster typhoon devastated</td>\n",
       "      <td>25</td>\n",
       "    </tr>\n",
       "    <tr>\n",
       "      <th>15</th>\n",
       "      <td>legionnaires families affected</td>\n",
       "      <td>25</td>\n",
       "    </tr>\n",
       "    <tr>\n",
       "      <th>16</th>\n",
       "      <td>typhoon devastated saipan</td>\n",
       "      <td>25</td>\n",
       "    </tr>\n",
       "    <tr>\n",
       "      <th>17</th>\n",
       "      <td>obama declares disaster</td>\n",
       "      <td>25</td>\n",
       "    </tr>\n",
       "    <tr>\n",
       "      <th>18</th>\n",
       "      <td>wreckage conclusively confirmed</td>\n",
       "      <td>25</td>\n",
       "    </tr>\n",
       "    <tr>\n",
       "      <th>19</th>\n",
       "      <td>swallowed sandstorm minute</td>\n",
       "      <td>24</td>\n",
       "    </tr>\n",
       "    <tr>\n",
       "      <th>20</th>\n",
       "      <td>conclusively confirmed mh</td>\n",
       "      <td>24</td>\n",
       "    </tr>\n",
       "    <tr>\n",
       "      <th>21</th>\n",
       "      <td>confirmed mh malaysia</td>\n",
       "      <td>24</td>\n",
       "    </tr>\n",
       "    <tr>\n",
       "      <th>22</th>\n",
       "      <td>mh malaysia pm</td>\n",
       "      <td>24</td>\n",
       "    </tr>\n",
       "    <tr>\n",
       "      <th>23</th>\n",
       "      <td>airport swallowed sandstorm</td>\n",
       "      <td>24</td>\n",
       "    </tr>\n",
       "    <tr>\n",
       "      <th>24</th>\n",
       "      <td>watch airport swallowed</td>\n",
       "      <td>24</td>\n",
       "    </tr>\n",
       "  </tbody>\n",
       "</table>\n",
       "</div>"
      ],
      "text/plain": [
       "                              ngram  freq\n",
       "0          suicide bomber detonated    30\n",
       "1      northern california wildfire    29\n",
       "2              homes razed northern    28\n",
       "3                latest homes razed    28\n",
       "4                pkk suicide bomber    28\n",
       "5             bomber detonated bomb    28\n",
       "6                        yr old pkk    27\n",
       "7                   old pkk suicide    27\n",
       "8         razed northern california    27\n",
       "9           affected fatal outbreak    26\n",
       "10        families sue legionnaires    26\n",
       "11          families affected fatal    26\n",
       "12        sue legionnaires families    25\n",
       "13        declares disaster typhoon    25\n",
       "14      disaster typhoon devastated    25\n",
       "15   legionnaires families affected    25\n",
       "16        typhoon devastated saipan    25\n",
       "17          obama declares disaster    25\n",
       "18  wreckage conclusively confirmed    25\n",
       "19       swallowed sandstorm minute    24\n",
       "20        conclusively confirmed mh    24\n",
       "21            confirmed mh malaysia    24\n",
       "22                   mh malaysia pm    24\n",
       "23      airport swallowed sandstorm    24\n",
       "24          watch airport swallowed    24"
      ]
     },
     "metadata": {},
     "output_type": "display_data"
    }
   ],
   "source": [
    "display(\"Top trigramas - Desastres (target=1)\", top_tri_1)"
   ]
  },
  {
   "cell_type": "code",
   "execution_count": 22,
   "id": "ab48b27c",
   "metadata": {},
   "outputs": [
    {
     "data": {
      "text/plain": [
       "'Top trigramas - No desastres (target=0)'"
      ]
     },
     "metadata": {},
     "output_type": "display_data"
    },
    {
     "data": {
      "application/vnd.microsoft.datawrangler.viewer.v0+json": {
       "columns": [
        {
         "name": "index",
         "rawType": "int64",
         "type": "integer"
        },
        {
         "name": "ngram",
         "rawType": "object",
         "type": "string"
        },
        {
         "name": "freq",
         "rawType": "int64",
         "type": "integer"
        }
       ],
       "ref": "f49375ab-c725-4f45-bbda-226113a8c256",
       "rows": [
        [
         "0",
         "reddit quarantine offensive",
         "21"
        ],
        [
         "1",
         "quarantine offensive content",
         "20"
        ],
        [
         "2",
         "cross body bag",
         "19"
        ],
        [
         "3",
         "pick fan army",
         "17"
        ],
        [
         "4",
         "stock market crash",
         "16"
        ],
        [
         "5",
         "new content policy",
         "16"
        ],
        [
         "6",
         "reddit new content",
         "16"
        ],
        [
         "7",
         "china stock market",
         "16"
        ],
        [
         "8",
         "hollywood movie trapped",
         "15"
        ],
        [
         "9",
         "goes effect horrible",
         "15"
        ],
        [
         "10",
         "horrible subreddits banned",
         "15"
        ],
        [
         "11",
         "policy goes effect",
         "15"
        ],
        [
         "12",
         "knock detonation sensor",
         "15"
        ],
        [
         "13",
         "content policy goes",
         "15"
        ],
        [
         "14",
         "effect horrible subreddits",
         "15"
        ],
        [
         "15",
         "movie trapped miners",
         "15"
        ],
        [
         "16",
         "ignition knock detonation",
         "15"
        ],
        [
         "17",
         "gt gt gt",
         "15"
        ],
        [
         "18",
         "subreddits banned quarantined",
         "15"
        ],
        [
         "19",
         "blast wind neighbour",
         "13"
        ],
        [
         "20",
         "just heard loud",
         "13"
        ],
        [
         "21",
         "nearby appears blast",
         "13"
        ],
        [
         "22",
         "unconfirmed just heard",
         "13"
        ],
        [
         "23",
         "breaking news unconfirmed",
         "13"
        ],
        [
         "24",
         "bang nearby appears",
         "13"
        ]
       ],
       "shape": {
        "columns": 2,
        "rows": 25
       }
      },
      "text/html": [
       "<div>\n",
       "<style scoped>\n",
       "    .dataframe tbody tr th:only-of-type {\n",
       "        vertical-align: middle;\n",
       "    }\n",
       "\n",
       "    .dataframe tbody tr th {\n",
       "        vertical-align: top;\n",
       "    }\n",
       "\n",
       "    .dataframe thead th {\n",
       "        text-align: right;\n",
       "    }\n",
       "</style>\n",
       "<table border=\"1\" class=\"dataframe\">\n",
       "  <thead>\n",
       "    <tr style=\"text-align: right;\">\n",
       "      <th></th>\n",
       "      <th>ngram</th>\n",
       "      <th>freq</th>\n",
       "    </tr>\n",
       "  </thead>\n",
       "  <tbody>\n",
       "    <tr>\n",
       "      <th>0</th>\n",
       "      <td>reddit quarantine offensive</td>\n",
       "      <td>21</td>\n",
       "    </tr>\n",
       "    <tr>\n",
       "      <th>1</th>\n",
       "      <td>quarantine offensive content</td>\n",
       "      <td>20</td>\n",
       "    </tr>\n",
       "    <tr>\n",
       "      <th>2</th>\n",
       "      <td>cross body bag</td>\n",
       "      <td>19</td>\n",
       "    </tr>\n",
       "    <tr>\n",
       "      <th>3</th>\n",
       "      <td>pick fan army</td>\n",
       "      <td>17</td>\n",
       "    </tr>\n",
       "    <tr>\n",
       "      <th>4</th>\n",
       "      <td>stock market crash</td>\n",
       "      <td>16</td>\n",
       "    </tr>\n",
       "    <tr>\n",
       "      <th>5</th>\n",
       "      <td>new content policy</td>\n",
       "      <td>16</td>\n",
       "    </tr>\n",
       "    <tr>\n",
       "      <th>6</th>\n",
       "      <td>reddit new content</td>\n",
       "      <td>16</td>\n",
       "    </tr>\n",
       "    <tr>\n",
       "      <th>7</th>\n",
       "      <td>china stock market</td>\n",
       "      <td>16</td>\n",
       "    </tr>\n",
       "    <tr>\n",
       "      <th>8</th>\n",
       "      <td>hollywood movie trapped</td>\n",
       "      <td>15</td>\n",
       "    </tr>\n",
       "    <tr>\n",
       "      <th>9</th>\n",
       "      <td>goes effect horrible</td>\n",
       "      <td>15</td>\n",
       "    </tr>\n",
       "    <tr>\n",
       "      <th>10</th>\n",
       "      <td>horrible subreddits banned</td>\n",
       "      <td>15</td>\n",
       "    </tr>\n",
       "    <tr>\n",
       "      <th>11</th>\n",
       "      <td>policy goes effect</td>\n",
       "      <td>15</td>\n",
       "    </tr>\n",
       "    <tr>\n",
       "      <th>12</th>\n",
       "      <td>knock detonation sensor</td>\n",
       "      <td>15</td>\n",
       "    </tr>\n",
       "    <tr>\n",
       "      <th>13</th>\n",
       "      <td>content policy goes</td>\n",
       "      <td>15</td>\n",
       "    </tr>\n",
       "    <tr>\n",
       "      <th>14</th>\n",
       "      <td>effect horrible subreddits</td>\n",
       "      <td>15</td>\n",
       "    </tr>\n",
       "    <tr>\n",
       "      <th>15</th>\n",
       "      <td>movie trapped miners</td>\n",
       "      <td>15</td>\n",
       "    </tr>\n",
       "    <tr>\n",
       "      <th>16</th>\n",
       "      <td>ignition knock detonation</td>\n",
       "      <td>15</td>\n",
       "    </tr>\n",
       "    <tr>\n",
       "      <th>17</th>\n",
       "      <td>gt gt gt</td>\n",
       "      <td>15</td>\n",
       "    </tr>\n",
       "    <tr>\n",
       "      <th>18</th>\n",
       "      <td>subreddits banned quarantined</td>\n",
       "      <td>15</td>\n",
       "    </tr>\n",
       "    <tr>\n",
       "      <th>19</th>\n",
       "      <td>blast wind neighbour</td>\n",
       "      <td>13</td>\n",
       "    </tr>\n",
       "    <tr>\n",
       "      <th>20</th>\n",
       "      <td>just heard loud</td>\n",
       "      <td>13</td>\n",
       "    </tr>\n",
       "    <tr>\n",
       "      <th>21</th>\n",
       "      <td>nearby appears blast</td>\n",
       "      <td>13</td>\n",
       "    </tr>\n",
       "    <tr>\n",
       "      <th>22</th>\n",
       "      <td>unconfirmed just heard</td>\n",
       "      <td>13</td>\n",
       "    </tr>\n",
       "    <tr>\n",
       "      <th>23</th>\n",
       "      <td>breaking news unconfirmed</td>\n",
       "      <td>13</td>\n",
       "    </tr>\n",
       "    <tr>\n",
       "      <th>24</th>\n",
       "      <td>bang nearby appears</td>\n",
       "      <td>13</td>\n",
       "    </tr>\n",
       "  </tbody>\n",
       "</table>\n",
       "</div>"
      ],
      "text/plain": [
       "                            ngram  freq\n",
       "0     reddit quarantine offensive    21\n",
       "1    quarantine offensive content    20\n",
       "2                  cross body bag    19\n",
       "3                   pick fan army    17\n",
       "4              stock market crash    16\n",
       "5              new content policy    16\n",
       "6              reddit new content    16\n",
       "7              china stock market    16\n",
       "8         hollywood movie trapped    15\n",
       "9            goes effect horrible    15\n",
       "10     horrible subreddits banned    15\n",
       "11             policy goes effect    15\n",
       "12        knock detonation sensor    15\n",
       "13            content policy goes    15\n",
       "14     effect horrible subreddits    15\n",
       "15           movie trapped miners    15\n",
       "16      ignition knock detonation    15\n",
       "17                       gt gt gt    15\n",
       "18  subreddits banned quarantined    15\n",
       "19           blast wind neighbour    13\n",
       "20                just heard loud    13\n",
       "21           nearby appears blast    13\n",
       "22         unconfirmed just heard    13\n",
       "23      breaking news unconfirmed    13\n",
       "24            bang nearby appears    13"
      ]
     },
     "metadata": {},
     "output_type": "display_data"
    }
   ],
   "source": [
    "display(\"Top trigramas - No desastres (target=0)\", top_tri_0)"
   ]
  },
  {
   "cell_type": "markdown",
   "id": "916bc862",
   "metadata": {},
   "source": [
    "### Palabras más informativas (chi-cuadrado)"
   ]
  },
  {
   "cell_type": "markdown",
   "id": "98c948b1",
   "metadata": {},
   "source": [
    "#### Identificamos términos con mayor asociación estadística a cada clase.\n",
    "\n",
    "<small>\n",
    "\n",
    "- `log_ratio > 0` → aparece relativamente más en `target=1` (desastre).\n",
    "- `log_ratio < 0` → aparece relativamente más en `target=0` (no desastre).\n",
    "\n",
    "</small>\n"
   ]
  },
  {
   "cell_type": "code",
   "execution_count": 23,
   "id": "eb5ff6f5",
   "metadata": {},
   "outputs": [],
   "source": [
    "y = df[\"target\"].astype(int).values\n",
    "top_disaster, top_nondisaster = chi2_informative_terms(df[\"clean_text\"].fillna(\"\"), y, ngram_range=(1,1), top_k=25, min_df=1)"
   ]
  },
  {
   "cell_type": "code",
   "execution_count": 24,
   "id": "cfc7922e",
   "metadata": {},
   "outputs": [
    {
     "data": {
      "text/plain": [
       "'Términos más informativos para Desastres (chi², unigramas)'"
      ]
     },
     "metadata": {},
     "output_type": "display_data"
    },
    {
     "data": {
      "application/vnd.microsoft.datawrangler.viewer.v0+json": {
       "columns": [
        {
         "name": "index",
         "rawType": "int64",
         "type": "integer"
        },
        {
         "name": "term",
         "rawType": "object",
         "type": "string"
        },
        {
         "name": "chi2",
         "rawType": "float64",
         "type": "float"
        },
        {
         "name": "log_ratio",
         "rawType": "float64",
         "type": "float"
        }
       ],
       "ref": "d1647ea3-1463-4582-9ec3-34b4d3564d99",
       "rows": [
        [
         "0",
         "california",
         "133.90319699843076",
         "3.2364112868121206"
        ],
        [
         "1",
         "suicide",
         "127.05970856109309",
         "3.055827454059469"
        ],
        [
         "2",
         "hiroshima",
         "121.49327639518702",
         "4.826529797977156"
        ],
        [
         "3",
         "killed",
         "113.45499252617333",
         "3.4508208023126716"
        ],
        [
         "4",
         "mh",
         "93.62958750288112",
         "4.57369446686589"
        ],
        [
         "5",
         "families",
         "86.50153031355755",
         "2.7317777486141726"
        ],
        [
         "6",
         "wildfire",
         "85.1672301345996",
         "3.8241965233453206"
        ],
        [
         "7",
         "northern",
         "84.95505961479671",
         "16.789297943877074"
        ],
        [
         "8",
         "legionnaires",
         "80.9727911953531",
         "16.74128872720429"
        ],
        [
         "9",
         "bombing",
         "80.79976214708631",
         "3.4041333401785048"
        ],
        [
         "10",
         "bomber",
         "76.38484332470836",
         "4.3775795976480465"
        ],
        [
         "11",
         "typhoon",
         "73.73226543182454",
         "4.34367804785225"
        ],
        [
         "12",
         "disaster",
         "72.86151297990091",
         "1.468111865534084"
        ],
        [
         "13",
         "fires",
         "69.93549190495175",
         "1.9533016242577779"
        ],
        [
         "14",
         "pm",
         "69.04207946582517",
         "1.9043730577202962"
        ],
        [
         "15",
         "atomic",
         "67.96226343145904",
         "3.615441720488127"
        ],
        [
         "16",
         "homes",
         "67.6103340373249",
         "3.2450686538424276"
        ],
        [
         "17",
         "train",
         "66.8827986271919",
         "2.01362957701387"
        ],
        [
         "18",
         "debris",
         "66.37114032405992",
         "16.542437880256173"
        ],
        [
         "19",
         "police",
         "64.54525032715603",
         "1.448226582816136"
        ],
        [
         "20",
         "news",
         "64.1860904784666",
         "1.155972031658661"
        ],
        [
         "21",
         "severe",
         "62.38887190461632",
         "16.48056248071383"
        ],
        [
         "22",
         "japan",
         "62.114189212056345",
         "2.922295625426414"
        ],
        [
         "23",
         "malaysia",
         "61.79790995672509",
         "4.175055345775006"
        ],
        [
         "24",
         "migrants",
         "54.42433506572914",
         "16.34398695589282"
        ]
       ],
       "shape": {
        "columns": 3,
        "rows": 25
       }
      },
      "text/html": [
       "<div>\n",
       "<style scoped>\n",
       "    .dataframe tbody tr th:only-of-type {\n",
       "        vertical-align: middle;\n",
       "    }\n",
       "\n",
       "    .dataframe tbody tr th {\n",
       "        vertical-align: top;\n",
       "    }\n",
       "\n",
       "    .dataframe thead th {\n",
       "        text-align: right;\n",
       "    }\n",
       "</style>\n",
       "<table border=\"1\" class=\"dataframe\">\n",
       "  <thead>\n",
       "    <tr style=\"text-align: right;\">\n",
       "      <th></th>\n",
       "      <th>term</th>\n",
       "      <th>chi2</th>\n",
       "      <th>log_ratio</th>\n",
       "    </tr>\n",
       "  </thead>\n",
       "  <tbody>\n",
       "    <tr>\n",
       "      <th>0</th>\n",
       "      <td>california</td>\n",
       "      <td>133.903197</td>\n",
       "      <td>3.236411</td>\n",
       "    </tr>\n",
       "    <tr>\n",
       "      <th>1</th>\n",
       "      <td>suicide</td>\n",
       "      <td>127.059709</td>\n",
       "      <td>3.055827</td>\n",
       "    </tr>\n",
       "    <tr>\n",
       "      <th>2</th>\n",
       "      <td>hiroshima</td>\n",
       "      <td>121.493276</td>\n",
       "      <td>4.826530</td>\n",
       "    </tr>\n",
       "    <tr>\n",
       "      <th>3</th>\n",
       "      <td>killed</td>\n",
       "      <td>113.454993</td>\n",
       "      <td>3.450821</td>\n",
       "    </tr>\n",
       "    <tr>\n",
       "      <th>4</th>\n",
       "      <td>mh</td>\n",
       "      <td>93.629588</td>\n",
       "      <td>4.573694</td>\n",
       "    </tr>\n",
       "    <tr>\n",
       "      <th>5</th>\n",
       "      <td>families</td>\n",
       "      <td>86.501530</td>\n",
       "      <td>2.731778</td>\n",
       "    </tr>\n",
       "    <tr>\n",
       "      <th>6</th>\n",
       "      <td>wildfire</td>\n",
       "      <td>85.167230</td>\n",
       "      <td>3.824197</td>\n",
       "    </tr>\n",
       "    <tr>\n",
       "      <th>7</th>\n",
       "      <td>northern</td>\n",
       "      <td>84.955060</td>\n",
       "      <td>16.789298</td>\n",
       "    </tr>\n",
       "    <tr>\n",
       "      <th>8</th>\n",
       "      <td>legionnaires</td>\n",
       "      <td>80.972791</td>\n",
       "      <td>16.741289</td>\n",
       "    </tr>\n",
       "    <tr>\n",
       "      <th>9</th>\n",
       "      <td>bombing</td>\n",
       "      <td>80.799762</td>\n",
       "      <td>3.404133</td>\n",
       "    </tr>\n",
       "    <tr>\n",
       "      <th>10</th>\n",
       "      <td>bomber</td>\n",
       "      <td>76.384843</td>\n",
       "      <td>4.377580</td>\n",
       "    </tr>\n",
       "    <tr>\n",
       "      <th>11</th>\n",
       "      <td>typhoon</td>\n",
       "      <td>73.732265</td>\n",
       "      <td>4.343678</td>\n",
       "    </tr>\n",
       "    <tr>\n",
       "      <th>12</th>\n",
       "      <td>disaster</td>\n",
       "      <td>72.861513</td>\n",
       "      <td>1.468112</td>\n",
       "    </tr>\n",
       "    <tr>\n",
       "      <th>13</th>\n",
       "      <td>fires</td>\n",
       "      <td>69.935492</td>\n",
       "      <td>1.953302</td>\n",
       "    </tr>\n",
       "    <tr>\n",
       "      <th>14</th>\n",
       "      <td>pm</td>\n",
       "      <td>69.042079</td>\n",
       "      <td>1.904373</td>\n",
       "    </tr>\n",
       "    <tr>\n",
       "      <th>15</th>\n",
       "      <td>atomic</td>\n",
       "      <td>67.962263</td>\n",
       "      <td>3.615442</td>\n",
       "    </tr>\n",
       "    <tr>\n",
       "      <th>16</th>\n",
       "      <td>homes</td>\n",
       "      <td>67.610334</td>\n",
       "      <td>3.245069</td>\n",
       "    </tr>\n",
       "    <tr>\n",
       "      <th>17</th>\n",
       "      <td>train</td>\n",
       "      <td>66.882799</td>\n",
       "      <td>2.013630</td>\n",
       "    </tr>\n",
       "    <tr>\n",
       "      <th>18</th>\n",
       "      <td>debris</td>\n",
       "      <td>66.371140</td>\n",
       "      <td>16.542438</td>\n",
       "    </tr>\n",
       "    <tr>\n",
       "      <th>19</th>\n",
       "      <td>police</td>\n",
       "      <td>64.545250</td>\n",
       "      <td>1.448227</td>\n",
       "    </tr>\n",
       "    <tr>\n",
       "      <th>20</th>\n",
       "      <td>news</td>\n",
       "      <td>64.186090</td>\n",
       "      <td>1.155972</td>\n",
       "    </tr>\n",
       "    <tr>\n",
       "      <th>21</th>\n",
       "      <td>severe</td>\n",
       "      <td>62.388872</td>\n",
       "      <td>16.480562</td>\n",
       "    </tr>\n",
       "    <tr>\n",
       "      <th>22</th>\n",
       "      <td>japan</td>\n",
       "      <td>62.114189</td>\n",
       "      <td>2.922296</td>\n",
       "    </tr>\n",
       "    <tr>\n",
       "      <th>23</th>\n",
       "      <td>malaysia</td>\n",
       "      <td>61.797910</td>\n",
       "      <td>4.175055</td>\n",
       "    </tr>\n",
       "    <tr>\n",
       "      <th>24</th>\n",
       "      <td>migrants</td>\n",
       "      <td>54.424335</td>\n",
       "      <td>16.343987</td>\n",
       "    </tr>\n",
       "  </tbody>\n",
       "</table>\n",
       "</div>"
      ],
      "text/plain": [
       "            term        chi2  log_ratio\n",
       "0     california  133.903197   3.236411\n",
       "1        suicide  127.059709   3.055827\n",
       "2      hiroshima  121.493276   4.826530\n",
       "3         killed  113.454993   3.450821\n",
       "4             mh   93.629588   4.573694\n",
       "5       families   86.501530   2.731778\n",
       "6       wildfire   85.167230   3.824197\n",
       "7       northern   84.955060  16.789298\n",
       "8   legionnaires   80.972791  16.741289\n",
       "9        bombing   80.799762   3.404133\n",
       "10        bomber   76.384843   4.377580\n",
       "11       typhoon   73.732265   4.343678\n",
       "12      disaster   72.861513   1.468112\n",
       "13         fires   69.935492   1.953302\n",
       "14            pm   69.042079   1.904373\n",
       "15        atomic   67.962263   3.615442\n",
       "16         homes   67.610334   3.245069\n",
       "17         train   66.882799   2.013630\n",
       "18        debris   66.371140  16.542438\n",
       "19        police   64.545250   1.448227\n",
       "20          news   64.186090   1.155972\n",
       "21        severe   62.388872  16.480562\n",
       "22         japan   62.114189   2.922296\n",
       "23      malaysia   61.797910   4.175055\n",
       "24      migrants   54.424335  16.343987"
      ]
     },
     "metadata": {},
     "output_type": "display_data"
    }
   ],
   "source": [
    "display(\"Términos más informativos para Desastres (chi², unigramas)\", top_disaster)"
   ]
  },
  {
   "cell_type": "code",
   "execution_count": 25,
   "id": "b3f14905",
   "metadata": {},
   "outputs": [
    {
     "data": {
      "text/plain": [
       "'Términos más informativos para No-Desastres (chi², unigramas)'"
      ]
     },
     "metadata": {},
     "output_type": "display_data"
    },
    {
     "data": {
      "application/vnd.microsoft.datawrangler.viewer.v0+json": {
       "columns": [
        {
         "name": "index",
         "rawType": "int64",
         "type": "integer"
        },
        {
         "name": "term",
         "rawType": "object",
         "type": "string"
        },
        {
         "name": "chi2",
         "rawType": "float64",
         "type": "float"
        },
        {
         "name": "log_ratio",
         "rawType": "float64",
         "type": "float"
        }
       ],
       "ref": "5912d209-9a70-4a47-b2be-52c68a848103",
       "rows": [
        [
         "0",
         "not",
         "61.657726881699105",
         "-0.6255466762122148"
        ],
        [
         "1",
         "body",
         "53.09622981422675",
         "-1.762300486468691"
        ],
        [
         "2",
         "love",
         "43.108062266676384",
         "-1.829724661169318"
        ],
        [
         "3",
         "like",
         "36.14815367954453",
         "-0.7108001441452938"
        ],
        [
         "4",
         "just",
         "31.307654295859827",
         "-0.6834454045284535"
        ],
        [
         "5",
         "new",
         "31.009680645680756",
         "-0.8330725098487555"
        ],
        [
         "6",
         "bags",
         "29.733002542951205",
         "-3.477957622775797"
        ],
        [
         "7",
         "let",
         "27.59404085635218",
         "-1.4084365112599657"
        ],
        [
         "8",
         "bag",
         "27.47977030830875",
         "-3.4056369687694263"
        ],
        [
         "9",
         "lol",
         "26.582509701782946",
         "-1.6466701913968955"
        ],
        [
         "10",
         "ruin",
         "25.22760957735788",
         "-3.3276754361010648"
        ],
        [
         "11",
         "want",
         "23.300941963813592",
         "-1.3565037522201904"
        ],
        [
         "12",
         "reddit",
         "21.1469707321074",
         "-1.5085198632912271"
        ],
        [
         "13",
         "wrecked",
         "19.801917044205503",
         "-2.2016663571665114"
        ],
        [
         "14",
         "ebay",
         "19.229530706477362",
         "-3.084053385816097"
        ],
        [
         "15",
         "blew",
         "19.0802739270529",
         "-2.489347899528756"
        ],
        [
         "16",
         "electrocute",
         "18.480881762938907",
         "-3.0489620713521166"
        ],
        [
         "17",
         "harm",
         "18.45269526919067",
         "-1.941383528226159"
        ],
        [
         "18",
         "explode",
         "18.45269526919067",
         "-1.941383528226159"
        ],
        [
         "19",
         "panicking",
         "18.34148262428266",
         "-2.4575992055911913"
        ],
        [
         "20",
         "panic",
         "17.73916810923458",
         "-1.9139845572978038"
        ],
        [
         "21",
         "traumatised",
         "17.620374817235223",
         "-2.114654991141527"
        ],
        [
         "22",
         "better",
         "17.620374817235223",
         "-2.114654991141527"
        ],
        [
         "23",
         "song",
         "17.603600582270303",
         "-2.424809387437017"
        ],
        [
         "24",
         "content",
         "17.17921749975777",
         "-1.3907368376857687"
        ]
       ],
       "shape": {
        "columns": 3,
        "rows": 25
       }
      },
      "text/html": [
       "<div>\n",
       "<style scoped>\n",
       "    .dataframe tbody tr th:only-of-type {\n",
       "        vertical-align: middle;\n",
       "    }\n",
       "\n",
       "    .dataframe tbody tr th {\n",
       "        vertical-align: top;\n",
       "    }\n",
       "\n",
       "    .dataframe thead th {\n",
       "        text-align: right;\n",
       "    }\n",
       "</style>\n",
       "<table border=\"1\" class=\"dataframe\">\n",
       "  <thead>\n",
       "    <tr style=\"text-align: right;\">\n",
       "      <th></th>\n",
       "      <th>term</th>\n",
       "      <th>chi2</th>\n",
       "      <th>log_ratio</th>\n",
       "    </tr>\n",
       "  </thead>\n",
       "  <tbody>\n",
       "    <tr>\n",
       "      <th>0</th>\n",
       "      <td>not</td>\n",
       "      <td>61.657727</td>\n",
       "      <td>-0.625547</td>\n",
       "    </tr>\n",
       "    <tr>\n",
       "      <th>1</th>\n",
       "      <td>body</td>\n",
       "      <td>53.096230</td>\n",
       "      <td>-1.762300</td>\n",
       "    </tr>\n",
       "    <tr>\n",
       "      <th>2</th>\n",
       "      <td>love</td>\n",
       "      <td>43.108062</td>\n",
       "      <td>-1.829725</td>\n",
       "    </tr>\n",
       "    <tr>\n",
       "      <th>3</th>\n",
       "      <td>like</td>\n",
       "      <td>36.148154</td>\n",
       "      <td>-0.710800</td>\n",
       "    </tr>\n",
       "    <tr>\n",
       "      <th>4</th>\n",
       "      <td>just</td>\n",
       "      <td>31.307654</td>\n",
       "      <td>-0.683445</td>\n",
       "    </tr>\n",
       "    <tr>\n",
       "      <th>5</th>\n",
       "      <td>new</td>\n",
       "      <td>31.009681</td>\n",
       "      <td>-0.833073</td>\n",
       "    </tr>\n",
       "    <tr>\n",
       "      <th>6</th>\n",
       "      <td>bags</td>\n",
       "      <td>29.733003</td>\n",
       "      <td>-3.477958</td>\n",
       "    </tr>\n",
       "    <tr>\n",
       "      <th>7</th>\n",
       "      <td>let</td>\n",
       "      <td>27.594041</td>\n",
       "      <td>-1.408437</td>\n",
       "    </tr>\n",
       "    <tr>\n",
       "      <th>8</th>\n",
       "      <td>bag</td>\n",
       "      <td>27.479770</td>\n",
       "      <td>-3.405637</td>\n",
       "    </tr>\n",
       "    <tr>\n",
       "      <th>9</th>\n",
       "      <td>lol</td>\n",
       "      <td>26.582510</td>\n",
       "      <td>-1.646670</td>\n",
       "    </tr>\n",
       "    <tr>\n",
       "      <th>10</th>\n",
       "      <td>ruin</td>\n",
       "      <td>25.227610</td>\n",
       "      <td>-3.327675</td>\n",
       "    </tr>\n",
       "    <tr>\n",
       "      <th>11</th>\n",
       "      <td>want</td>\n",
       "      <td>23.300942</td>\n",
       "      <td>-1.356504</td>\n",
       "    </tr>\n",
       "    <tr>\n",
       "      <th>12</th>\n",
       "      <td>reddit</td>\n",
       "      <td>21.146971</td>\n",
       "      <td>-1.508520</td>\n",
       "    </tr>\n",
       "    <tr>\n",
       "      <th>13</th>\n",
       "      <td>wrecked</td>\n",
       "      <td>19.801917</td>\n",
       "      <td>-2.201666</td>\n",
       "    </tr>\n",
       "    <tr>\n",
       "      <th>14</th>\n",
       "      <td>ebay</td>\n",
       "      <td>19.229531</td>\n",
       "      <td>-3.084053</td>\n",
       "    </tr>\n",
       "    <tr>\n",
       "      <th>15</th>\n",
       "      <td>blew</td>\n",
       "      <td>19.080274</td>\n",
       "      <td>-2.489348</td>\n",
       "    </tr>\n",
       "    <tr>\n",
       "      <th>16</th>\n",
       "      <td>electrocute</td>\n",
       "      <td>18.480882</td>\n",
       "      <td>-3.048962</td>\n",
       "    </tr>\n",
       "    <tr>\n",
       "      <th>17</th>\n",
       "      <td>harm</td>\n",
       "      <td>18.452695</td>\n",
       "      <td>-1.941384</td>\n",
       "    </tr>\n",
       "    <tr>\n",
       "      <th>18</th>\n",
       "      <td>explode</td>\n",
       "      <td>18.452695</td>\n",
       "      <td>-1.941384</td>\n",
       "    </tr>\n",
       "    <tr>\n",
       "      <th>19</th>\n",
       "      <td>panicking</td>\n",
       "      <td>18.341483</td>\n",
       "      <td>-2.457599</td>\n",
       "    </tr>\n",
       "    <tr>\n",
       "      <th>20</th>\n",
       "      <td>panic</td>\n",
       "      <td>17.739168</td>\n",
       "      <td>-1.913985</td>\n",
       "    </tr>\n",
       "    <tr>\n",
       "      <th>21</th>\n",
       "      <td>traumatised</td>\n",
       "      <td>17.620375</td>\n",
       "      <td>-2.114655</td>\n",
       "    </tr>\n",
       "    <tr>\n",
       "      <th>22</th>\n",
       "      <td>better</td>\n",
       "      <td>17.620375</td>\n",
       "      <td>-2.114655</td>\n",
       "    </tr>\n",
       "    <tr>\n",
       "      <th>23</th>\n",
       "      <td>song</td>\n",
       "      <td>17.603601</td>\n",
       "      <td>-2.424809</td>\n",
       "    </tr>\n",
       "    <tr>\n",
       "      <th>24</th>\n",
       "      <td>content</td>\n",
       "      <td>17.179217</td>\n",
       "      <td>-1.390737</td>\n",
       "    </tr>\n",
       "  </tbody>\n",
       "</table>\n",
       "</div>"
      ],
      "text/plain": [
       "           term       chi2  log_ratio\n",
       "0           not  61.657727  -0.625547\n",
       "1          body  53.096230  -1.762300\n",
       "2          love  43.108062  -1.829725\n",
       "3          like  36.148154  -0.710800\n",
       "4          just  31.307654  -0.683445\n",
       "5           new  31.009681  -0.833073\n",
       "6          bags  29.733003  -3.477958\n",
       "7           let  27.594041  -1.408437\n",
       "8           bag  27.479770  -3.405637\n",
       "9           lol  26.582510  -1.646670\n",
       "10         ruin  25.227610  -3.327675\n",
       "11         want  23.300942  -1.356504\n",
       "12       reddit  21.146971  -1.508520\n",
       "13      wrecked  19.801917  -2.201666\n",
       "14         ebay  19.229531  -3.084053\n",
       "15         blew  19.080274  -2.489348\n",
       "16  electrocute  18.480882  -3.048962\n",
       "17         harm  18.452695  -1.941384\n",
       "18      explode  18.452695  -1.941384\n",
       "19    panicking  18.341483  -2.457599\n",
       "20        panic  17.739168  -1.913985\n",
       "21  traumatised  17.620375  -2.114655\n",
       "22       better  17.620375  -2.114655\n",
       "23         song  17.603601  -2.424809\n",
       "24      content  17.179217  -1.390737"
      ]
     },
     "metadata": {},
     "output_type": "display_data"
    }
   ],
   "source": [
    "display(\"Términos más informativos para No-Desastres (chi², unigramas)\", top_nondisaster)"
   ]
  }
 ],
 "metadata": {
  "kernelspec": {
   "display_name": "venv",
   "language": "python",
   "name": "python3"
  },
  "language_info": {
   "codemirror_mode": {
    "name": "ipython",
    "version": 3
   },
   "file_extension": ".py",
   "mimetype": "text/x-python",
   "name": "python",
   "nbconvert_exporter": "python",
   "pygments_lexer": "ipython3",
   "version": "3.12.1"
  }
 },
 "nbformat": 4,
 "nbformat_minor": 5
}
